{
 "cells": [
  {
   "cell_type": "code",
   "execution_count": 5,
   "id": "f55aab49",
   "metadata": {},
   "outputs": [],
   "source": [
    "import pandas as pd\n",
    "import numpy as np \n",
    "from sklearn.tree import DecisionTreeRegressor"
   ]
  },
  {
   "cell_type": "code",
   "execution_count": 2,
   "id": "7007a20f",
   "metadata": {},
   "outputs": [],
   "source": [
    "# Toy dataset\n",
    "X = np.array([\n",
    "    [1, 0, 1, 0],\n",
    "    [0, 1, 0, 1],\n",
    "    [1, 1, 1, 0],\n",
    "    [0, 0, 0, 1]\n",
    "], dtype=float)\n",
    "\n",
    "y = np.array([5.0, 6.0, 2.0, 1.5])"
   ]
  },
  {
   "cell_type": "code",
   "execution_count": 12,
   "id": "e87aa852",
   "metadata": {},
   "outputs": [
    {
     "data": {
      "text/plain": [
       "array([0.25, 0.25, 0.25, 0.25])"
      ]
     },
     "execution_count": 12,
     "metadata": {},
     "output_type": "execute_result"
    }
   ],
   "source": [
    "n_samples = X.shape[0]\n",
    "\n",
    "weights = np.ones(n_samples) / n_samples\n",
    "weights"
   ]
  },
  {
   "cell_type": "code",
   "execution_count": null,
   "id": "395c200d",
   "metadata": {},
   "outputs": [
    {
     "name": "stdout",
     "output_type": "stream",
     "text": [
      "Actual: [5.  6.  2.  1.5]\n",
      "########################################\n",
      "Round 1\n",
      "  Predictions: [3.25 4.   4.   3.25]\n",
      "  Error: 0.9224247723846828\n",
      "  Alpha: -1.2378788402882646\n",
      "  Updated weights: [0.32814881 0.17185119 0.17185119 0.32814881]\n",
      "----------------------------------------\n",
      "Actual: [5.  6.  2.  1.5]\n",
      "########################################\n",
      "Round 2\n",
      "  Predictions: [3.96889287 3.04666069 3.96889287 3.04666069]\n",
      "  Error: 0.5728372937737997\n",
      "  Alpha: -0.14671836784834857\n",
      "  Updated weights: [0.33891689 0.16132524 0.16941114 0.33034674]\n",
      "----------------------------------------\n",
      "Actual: [5.  6.  2.  1.5]\n",
      "########################################\n",
      "Round 3\n",
      "  Predictions: [4.00018611 2.97652012 4.00018611 2.97652012]\n",
      "  Error: 0.5467986875719266\n",
      "  Alpha: -0.09387213979297152\n",
      "  Updated weights: [0.34578363 0.15457054 0.16755767 0.33208817]\n",
      "----------------------------------------\n"
     ]
    }
   ],
   "source": [
    "M = 3 # nuumber ofr boosting rounds\n",
    "learners = [] # store weak learners\n",
    "alphas = [] # store weights of weak learners\n",
    "\n",
    "print(\"Actual:\", y)\n",
    "print(\"#\" * 40)\n",
    "\n",
    "for m in range(M):\n",
    "    stump = DecisionTreeRegressor(max_depth=1)\n",
    "    stump.fit(X, y, sample_weight=weights)\n",
    "    y_pred = stump.predict(X)\n",
    "\n",
    "    # Calculate absolute errors\n",
    "    abs_errors = np.abs(y - y_pred)\n",
    "    # Normalize errors to [0, 1]\n",
    "    max_error = abs_errors.max()\n",
    "    if max_error == 0:\n",
    "        error = 0\n",
    "    else:\n",
    "        error = np.sum(weights * abs_errors) / max_error\n",
    "\n",
    "    error = min(error, 0.999)  # avoid division by zero and log(0)\n",
    "\n",
    "    # Compute alpha (amount of say)\n",
    "    alpha = 0.5 * np.log((1 - error) / error)\n",
    "\n",
    "    # Update weights: higher for samples with higher error\n",
    "    weights *= np.exp(alpha * (abs_errors / max_error))\n",
    "    # Normalize weights\n",
    "    weights /= np.sum(weights)\n",
    "\n",
    "    learners.append(stump)\n",
    "    alphas.append(alpha)\n",
    "\n",
    "\n",
    "    print(f\"Round {m+1}\")\n",
    "    print(\"  Predictions:\", y_pred)\n",
    "    print(\"  Error:\", error)\n",
    "    print(\"  Alpha:\", alpha)\n",
    "    print(\"  Updated weights:\", weights)\n",
    "    print(\"-\" * 40)"
   ]
  },
  {
   "cell_type": "code",
   "execution_count": null,
   "id": "4b6be431",
   "metadata": {},
   "outputs": [],
   "source": []
  }
 ],
 "metadata": {
  "kernelspec": {
   "display_name": "base",
   "language": "python",
   "name": "python3"
  },
  "language_info": {
   "codemirror_mode": {
    "name": "ipython",
    "version": 3
   },
   "file_extension": ".py",
   "mimetype": "text/x-python",
   "name": "python",
   "nbconvert_exporter": "python",
   "pygments_lexer": "ipython3",
   "version": "3.12.7"
  }
 },
 "nbformat": 4,
 "nbformat_minor": 5
}
