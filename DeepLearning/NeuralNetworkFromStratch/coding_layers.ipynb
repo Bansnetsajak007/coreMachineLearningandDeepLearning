{
 "cells": [
  {
   "cell_type": "code",
   "execution_count": 6,
   "id": "79f5496a",
   "metadata": {},
   "outputs": [],
   "source": [
    "import numpy as np"
   ]
  },
  {
   "cell_type": "code",
   "execution_count": 7,
   "id": "286c53c5",
   "metadata": {},
   "outputs": [
    {
     "name": "stdout",
     "output_type": "stream",
     "text": [
      "2.3\n"
     ]
    }
   ],
   "source": [
    "#neuroon with 3 inputs, weights and bias\n",
    "inputs = [1, 2, 3]\n",
    "weights = [0.2, 0.8, -0.5]\n",
    "bias = 2\n",
    "\n",
    "output = (inputs[0]*weights[0] + inputs[1]*weights[1] + inputs[2]*weights[2] + bias)\n",
    "print(output)"
   ]
  },
  {
   "cell_type": "code",
   "execution_count": 8,
   "id": "7c979453",
   "metadata": {},
   "outputs": [
    {
     "name": "stdout",
     "output_type": "stream",
     "text": [
      "4.8\n"
     ]
    }
   ],
   "source": [
    "#neuroon with 4 inputs, weights and bias\n",
    "inputs = [1.0, 2.0, 3.0, 2.5]\n",
    "weights = [0.2, 0.8, -0.5, 1.0]\n",
    "bias = 2.0\n",
    "output = (inputs[0]*weights[0] +\n",
    " inputs[1]*weights[1] +\n",
    " inputs[2]*weights[2] +\n",
    " inputs[3]*weights[3] + bias)\n",
    "\n",
    "print(output)"
   ]
  },
  {
   "cell_type": "code",
   "execution_count": 9,
   "id": "e88ae7ea",
   "metadata": {},
   "outputs": [
    {
     "name": "stdout",
     "output_type": "stream",
     "text": [
      "[0.99183743 0.77029895 0.9156763 ]\n"
     ]
    }
   ],
   "source": [
    "# layer of neurons 4 input nodes ---> 3 neurons\n",
    "inputs = [1.0, 2.0, 3.0, 2.5]   # ---> 1x4\n",
    "weights = [[0.2, 0.8, -0.5, 1.0], \n",
    "           [0.5, -0.91, 0.26, -0.5], \n",
    "           [-0.26, -0.27, 0.17, 0.87]]  # ---> 3x4\n",
    "biases = [2.0, 3.0, 0.5]\n",
    "z1 = np.dot(weights,inputs) + biases\n",
    "A1 = 1/(1+np.exp(-z1))  #sigmoid activation function\n",
    "print(A1)    # adding the non-linearity\n",
    "# print(z1)"
   ]
  },
  {
   "cell_type": "code",
   "execution_count": 10,
   "id": "5a93fddd",
   "metadata": {},
   "outputs": [
    {
     "name": "stdout",
     "output_type": "stream",
     "text": [
      "[0.99183743 0.77029895 0.9156763 ]\n",
      "[4.8   1.21  2.385]\n"
     ]
    }
   ],
   "source": [
    "inputs = [1.0, 2.0, 3.0, 2.5]\n",
    "weights = [[0.2,0.5,-0.26],\n",
    "           [0.8,-0.91,-0.27],\n",
    "           [-0.5,0.26,0.17],\n",
    "           [1.0,-0.5,0.87]]\n",
    "biases = [2.0,3.0,0.5]\n",
    "z1 = np.dot(inputs,weights) + biases\n",
    "A1 = 1/(1+np.exp(-z1))  #sigmoid activation function\n",
    "print(A1)    # adding the non-linearity\n",
    "print(z1)"
   ]
  },
  {
   "cell_type": "code",
   "execution_count": 11,
   "id": "6cb23a35",
   "metadata": {},
   "outputs": [
    {
     "name": "stdout",
     "output_type": "stream",
     "text": [
      "(3, 3)\n",
      "[[ 4.8    1.21   2.385]\n",
      " [ 8.9   -1.81   0.2  ]\n",
      " [ 1.41   1.051  0.026]]\n"
     ]
    }
   ],
   "source": [
    "#batch of inputs\n",
    "inputs = np.array([[1.0, 2.0, 3.0, 2.5],\n",
    "                   [2.0, 5.0, -1.0, 2.0],\n",
    "                   [-1.5, 2.7, 3.3, -0.8]])  # ---> 3x4\n",
    "weights = np.array([[0.2, 0.8, -0.5, 1.0], \n",
    "                    [0.5, -0.91, 0.26, -0.5], \n",
    "                    [-0.26, -0.27, 0.17, 0.87]])  # ---> 3x4\n",
    "biases = np.array([2.0, 3.0, 0.5])\n",
    "z1 = np.dot(inputs, weights.T) + biases\n",
    "print(z1.shape)\n",
    "print(z1)\n",
    "\n"
   ]
  },
  {
   "cell_type": "code",
   "execution_count": 12,
   "id": "38517722",
   "metadata": {},
   "outputs": [
    {
     "name": "stdout",
     "output_type": "stream",
     "text": [
      "[4.5, 1.75, 2.675]\n"
     ]
    }
   ],
   "source": [
    "inputs = [1.0, 2.0, 3.0, 2.5]\n",
    "weights = [[0.2, 0.8, -0.5, 1.0], \n",
    "           [0.5, -0.91, 0.26, -0.5], \n",
    "           [-0.26, -0.27, 0.17, 0.87]]\n",
    "biases = [2.0, 3.0, 0.5]\n",
    "\n",
    "# Output of current layer\n",
    "layer_outputs = []\n",
    "\n",
    "# For each neuron\n",
    "for neuron_weights, neuron_bias in zip(weights, biases):\n",
    " # Zeroed output of given neuron\n",
    " neuron_output = 0\n",
    " # For each input and weight to the neuron\n",
    " for n_input, weight in zip(inputs, neuron_weights):\n",
    " # Multiply this input by associated weight\n",
    " # and add to the neuron's output variable\n",
    "#    neuron_output += n_input*weight ## W31*X1 + W32*X2 + W33*X3 + W34*X4\n",
    "#    # Add bias\n",
    "#  neuron_output += neuron_bias ## ## W31*X1 + W32*X2 + W33*X3 + W34*X4 + B3\n",
    "    neuron_output = (n_input*weight + neuron_bias)\n",
    " # Put neuron's result to the layer's output list\n",
    " layer_outputs.append(neuron_output)\n",
    "print(layer_outputs)"
   ]
  },
  {
   "cell_type": "code",
   "execution_count": 13,
   "id": "51161934",
   "metadata": {},
   "outputs": [
    {
     "name": "stdout",
     "output_type": "stream",
     "text": [
      "32\n",
      "32\n"
     ]
    }
   ],
   "source": [
    "a = [1,2,3]\n",
    "b = [4,5,6]\n",
    "c = np.dot(a,b)\n",
    "d = np.dot(b,a)\n",
    "print(d)\n",
    "print(c)\n"
   ]
  },
  {
   "cell_type": "code",
   "execution_count": 14,
   "id": "75f3c8c9",
   "metadata": {},
   "outputs": [
    {
     "name": "stdout",
     "output_type": "stream",
     "text": [
      "[32 50 68]\n",
      "[48 54 60]\n"
     ]
    }
   ],
   "source": [
    "a = [1,2,3]\n",
    "b=[[4,5,6],[7,8,9],[10,11,12]]\n",
    "c = np.dot(a,b)\n",
    "d = np.dot(b,a)\n",
    "print(d)\n",
    "print(c)\n"
   ]
  },
  {
   "cell_type": "code",
   "execution_count": 15,
   "id": "7b3b0d32",
   "metadata": {},
   "outputs": [
    {
     "name": "stdout",
     "output_type": "stream",
     "text": [
      "[[ 30  36  42]\n",
      " [ 66  81  96]\n",
      " [102 126 150]]\n"
     ]
    }
   ],
   "source": [
    "a = [[1,2,3],[4,5,6],[7,8,9]]\n",
    "b = [[1,2,3],[4,5,6],[7,8,9]]\n",
    "c = np.dot(a,b)\n",
    "print(c)"
   ]
  },
  {
   "cell_type": "code",
   "execution_count": 16,
   "id": "19045cde",
   "metadata": {},
   "outputs": [
    {
     "name": "stdout",
     "output_type": "stream",
     "text": [
      "4.8\n"
     ]
    }
   ],
   "source": [
    "inputs = [1.0, 2.0, 3.0, 2.5]\n",
    "weights = [0.2, 0.8, -0.5, 1.0]\n",
    "\n",
    "bias = 2.0\n",
    "z1 = np.dot(weights, inputs) + bias\n",
    "\n",
    "print(z1)"
   ]
  },
  {
   "cell_type": "code",
   "execution_count": 25,
   "id": "5ed68178",
   "metadata": {},
   "outputs": [],
   "source": [
    "def ReLu(x):\n",
    "    return np.maximum(0,x)\n",
    "\n",
    "def linear_activation(x):\n",
    "    return x"
   ]
  },
  {
   "cell_type": "code",
   "execution_count": null,
   "id": "7a1979e5",
   "metadata": {},
   "outputs": [
    {
     "name": "stdout",
     "output_type": "stream",
     "text": [
      "[4.8   1.21  2.385]\n"
     ]
    }
   ],
   "source": [
    "inputs_X  = [1.0, 2.0, 3.0, 2.5]\n",
    "weights1 = [[0.2,0.5,-0.26],\n",
    "           [0.8,-0.91,-0.27],\n",
    "           [-0.5,0.26,0.17],\n",
    "           [1.0,-0.5,0.87]]\n",
    "biases1 = [2.0,3.0,0.5]\n",
    "z1 = np.dot(inputs_X,weights1) + biases1\n",
    "a1 = ReLu(z1)\n",
    "print(a1)"
   ]
  },
  {
   "cell_type": "code",
   "execution_count": null,
   "id": "89b891f5",
   "metadata": {},
   "outputs": [
    {
     "name": "stdout",
     "output_type": "stream",
     "text": [
      "3\n",
      "[11.3155  0.      1.1408]\n"
     ]
    }
   ],
   "source": [
    "weights2 = [[2.3,0.1,-0.26],\n",
    "           [0.8,-0.988,-0.27],\n",
    "           [-0.5,0.26,0.3]]\n",
    "biases2 = [0.5,-1.0,2.0]\n",
    "z2 = np.dot(a1,weights2) + biases2\n",
    "a2 = ReLu(z2)\n",
    "print(a2)"
   ]
  },
  {
   "cell_type": "code",
   "execution_count": 29,
   "id": "9f7fa24b",
   "metadata": {},
   "outputs": [
    {
     "name": "stdout",
     "output_type": "stream",
     "text": [
      "7.084471000000001\n"
     ]
    }
   ],
   "source": [
    "weights3 = [0.45,-0.994,0.87]\n",
    "biases3 = 1.0\n",
    "z3 = np.dot(a2,weights3) + biases3\n",
    "a3 = linear_activation(z3)\n",
    "print(a3)\n"
   ]
  },
  {
   "cell_type": "code",
   "execution_count": null,
   "id": "6c8356b4",
   "metadata": {},
   "outputs": [],
   "source": []
  }
 ],
 "metadata": {
  "kernelspec": {
   "display_name": "Python 3",
   "language": "python",
   "name": "python3"
  },
  "language_info": {
   "codemirror_mode": {
    "name": "ipython",
    "version": 3
   },
   "file_extension": ".py",
   "mimetype": "text/x-python",
   "name": "python",
   "nbconvert_exporter": "python",
   "pygments_lexer": "ipython3",
   "version": "3.12.8"
  }
 },
 "nbformat": 4,
 "nbformat_minor": 5
}
